{
 "cells": [
  {
   "cell_type": "code",
   "execution_count": 2,
   "metadata": {},
   "outputs": [],
   "source": [
    "from openai import OpenAI\n",
    "import os\n",
    "from dotenv import load_dotenv\n",
    "\n",
    "load_dotenv()\n",
    "secret_key=os.getenv('SECRET_KEY')\n",
    "client = OpenAI(api_key=secret_key)"
   ]
  },
  {
   "cell_type": "code",
   "execution_count": 3,
   "metadata": {},
   "outputs": [],
   "source": [
    "conversation=[\n",
    "    {\n",
    "        \"role\":\"system\",\n",
    "        \"content\":\"You are a travel guide designed to provide information about landmarks that tourists should explore in Paris. You speak in a concise and friendly manner.\"\n",
    "\n",
    "    },\n",
    "    {\n",
    "        \"role\":\"user\",\n",
    "        \"content\":\"You are a travel guide designed to provide information about landmarks that tourists should explore in Paris. You speak in a concise manner.\"\n",
    "\n",
    "    },\n",
    "    {\n",
    "        \"role\":\"assistant\",\n",
    "        \"content\":\"The most famous landmark in Paris is the Eiffel Tower.\"\n",
    "    }\n",
    "]"
   ]
  },
  {
   "cell_type": "code",
   "execution_count": 4,
   "metadata": {},
   "outputs": [],
   "source": [
    "questions = [\n",
    "    \"How far away is the Louvre from the Eiffel Tower (in driving miles)?\",\n",
    "    \"Where is the Arc de Triomphe?\",\n",
    "    \"What are the must-see artworks at the Louvre Museum?\",\n",
    "]"
   ]
  },
  {
   "cell_type": "code",
   "execution_count": 6,
   "metadata": {},
   "outputs": [
    {
     "name": "stdout",
     "output_type": "stream",
     "text": [
      "The Louvre is approximately 1.5 miles away from the Eiffel Tower.\n",
      "The Arc de Triomphe is located at the western end of the Champs-Élysées in Paris, France.\n",
      "Some must-see artworks at the Louvre Museum include the Mona Lisa, the Venus de Milo, and the Winged Victory of Samothrace.\n",
      "[{'role': 'system', 'content': 'You are a travel guide designed to provide information about landmarks that tourists should explore in Paris. You speak in a concise and friendly manner.'}, {'role': 'user', 'content': 'You are a travel guide designed to provide information about landmarks that tourists should explore in Paris. You speak in a concise manner.'}, {'role': 'assistant', 'content': 'The most famous landmark in Paris is the Eiffel Tower.'}, {'role': 'user', 'content': 'How far away is the Louvre from the Eiffel Tower (in driving miles)?'}, {'role': 'assistant', 'content': 'The Louvre is approximately 2.5 miles away from the Eiffel Tower.'}, {'role': 'user', 'content': 'Where is the Arc de Triomphe?'}, {'role': 'assistant', 'content': 'The Arc de Triomphe is located at the western end of the Champs-Élysées in Paris.'}, {'role': 'user', 'content': 'What are the must-see artworks at the Louvre Museum?'}, {'role': 'assistant', 'content': 'Some must-see artworks at the Louvre Museum include the Mona Lisa, the Venus de Milo, and the Winged Victory of Samothrace.'}, {'role': 'user', 'content': 'How far away is the Louvre from the Eiffel Tower (in driving miles)?'}, {'role': 'assistant', 'content': 'The Louvre is approximately 1.5 miles away from the Eiffel Tower.'}, {'role': 'user', 'content': 'Where is the Arc de Triomphe?'}, {'role': 'assistant', 'content': 'The Arc de Triomphe is located at the western end of the Champs-Élysées in Paris, France.'}, {'role': 'user', 'content': 'What are the must-see artworks at the Louvre Museum?'}, {'role': 'assistant', 'content': 'Some must-see artworks at the Louvre Museum include the Mona Lisa, the Venus de Milo, and the Winged Victory of Samothrace.'}]\n"
     ]
    }
   ],
   "source": [
    "\n",
    "for question in questions:\n",
    "    input_dict = {\"role\": \"user\", \"content\": question}\n",
    "    conversation.append(input_dict)  \n",
    "\n",
    "    \n",
    "    response = client.chat.completions.create(\n",
    "        model=\"gpt-3.5-turbo\",\n",
    "        messages=conversation,\n",
    "        temperature=0.0,\n",
    "        max_tokens=100\n",
    "    )\n",
    "    \n",
    "   \n",
    "    resp = response.choices[0].message.content\n",
    "    print(resp)\n",
    "\n",
    "  \n",
    "    resp_dict = {\"role\": \"assistant\", \"content\": resp}\n",
    "    conversation.append(resp_dict)\n",
    "\n",
    "print(conversation)"
   ]
  }
 ],
 "metadata": {
  "kernelspec": {
   "display_name": "Python 3",
   "language": "python",
   "name": "python3"
  },
  "language_info": {
   "codemirror_mode": {
    "name": "ipython",
    "version": 3
   },
   "file_extension": ".py",
   "mimetype": "text/x-python",
   "name": "python",
   "nbconvert_exporter": "python",
   "pygments_lexer": "ipython3",
   "version": "3.9.6"
  },
  "orig_nbformat": 4
 },
 "nbformat": 4,
 "nbformat_minor": 2
}
