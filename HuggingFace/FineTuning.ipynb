{
 "cells": [
  {
   "cell_type": "code",
   "execution_count": null,
   "metadata": {},
   "outputs": [],
   "source": [
    "# Fine Tuning - Adjusting a pre-trained model for a specific task or dataset\n",
    "\n",
    "# Pre-trained model - algorithm developed on extensive data on a particular domain to perform well on a task\n",
    "\n",
    "\n",
    "# WHY FINETUNE ??\n",
    "# - Learn new task or domain\n",
    "# - Reduced time and computation\n",
    "\n",
    "\n",
    "# HOW TO FINE TUNE??\n",
    "# - Identify the model\n",
    "# - Prepare the data for training\n",
    "# - Building a training loop using Build Trainer\n",
    "# - Training and saving the model\n"
   ]
  }
 ],
 "metadata": {
  "language_info": {
   "name": "python"
  },
  "orig_nbformat": 4
 },
 "nbformat": 4,
 "nbformat_minor": 2
}
