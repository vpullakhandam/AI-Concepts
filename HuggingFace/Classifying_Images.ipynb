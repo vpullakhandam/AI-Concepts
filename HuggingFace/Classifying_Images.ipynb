{
 "cells": [
  {
   "cell_type": "markdown",
   "metadata": {},
   "source": []
  },
  {
   "cell_type": "code",
   "execution_count": null,
   "metadata": {},
   "outputs": [],
   "source": [
    "# More pixels = Higher resolution\n",
    "\n",
    "#Pre-processing images is necessary as\n",
    "# - models have expectations for the images about size, or number of pixels etc. , it also maintains consistency reducing bias\n",
    "\n",
    "\n",
    "# - CROPPING : removing unwanted parts of the image\n",
    "# - Resizing : changes dimensions of image"
   ]
  },
  {
   "cell_type": "code",
   "execution_count": null,
   "metadata": {},
   "outputs": [],
   "source": [
    "from transformers import image_transforms\n",
    "\n",
    "from PIL import Image\n",
    "og_Img = Image.open(\"my_image.jpeg\")\n",
    "\n"
   ]
  }
 ],
 "metadata": {
  "language_info": {
   "name": "python"
  },
  "orig_nbformat": 4
 },
 "nbformat": 4,
 "nbformat_minor": 2
}
