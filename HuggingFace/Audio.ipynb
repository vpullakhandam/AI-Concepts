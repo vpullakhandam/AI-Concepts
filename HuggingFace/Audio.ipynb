{
 "cells": [
  {
   "cell_type": "code",
   "execution_count": null,
   "metadata": {},
   "outputs": [],
   "source": [
    "# Sampling rate, also known as sampling frequency, is the number of samples per second taken from a continuous signal to convert it into a discrete digital signal.\n",
    "\n",
    "from datasets import Audio\n",
    "songs= songs.cast_column(\"audio\",Audio(sampling_rate=16,000))\n",
    "\n",
    "# To find sampling rate\n",
    "print(songs[0][\"audio\"][\"sampling_rate\"])"
   ]
  },
  {
   "cell_type": "code",
   "execution_count": null,
   "metadata": {},
   "outputs": [],
   "source": [
    "# To find the size of the audio file, use the librosa library\n",
    "\n",
    "librosa.get_duration(path=row)"
   ]
  },
  {
   "cell_type": "code",
   "execution_count": null,
   "metadata": {},
   "outputs": [],
   "source": [
    "# ASR = Automatic Speech Recognition\n",
    "\n",
    "# We use WER to evaluate it. Word Error Rate. \n",
    "# WER = (Substitutions + Insertions + Deletions)/Number of words spoken . it is based on levenshtein distance. it is a metric for the difference between two sequences.\n",
    "\n",
    "# Closer it is to 0, more similar!"
   ]
  }
 ],
 "metadata": {
  "language_info": {
   "name": "python"
  },
  "orig_nbformat": 4
 },
 "nbformat": 4,
 "nbformat_minor": 2
}
