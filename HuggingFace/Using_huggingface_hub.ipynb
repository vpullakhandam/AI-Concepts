{
 "cells": [
  {
   "cell_type": "code",
   "execution_count": 37,
   "metadata": {},
   "outputs": [
    {
     "name": "stdout",
     "output_type": "stream",
     "text": [
      "Defaulting to user installation because normal site-packages is not writeable\n",
      "Requirement already satisfied: huggingface_hub in /Users/vaishnavipullakhandam/Library/Python/3.9/lib/python/site-packages (0.28.1)\n",
      "Requirement already satisfied: fsspec>=2023.5.0 in /Users/vaishnavipullakhandam/Library/Python/3.9/lib/python/site-packages (from huggingface_hub) (2025.2.0)\n",
      "Requirement already satisfied: filelock in /Users/vaishnavipullakhandam/Library/Python/3.9/lib/python/site-packages (from huggingface_hub) (3.17.0)\n",
      "Requirement already satisfied: pyyaml>=5.1 in /Users/vaishnavipullakhandam/Library/Python/3.9/lib/python/site-packages (from huggingface_hub) (6.0.2)\n",
      "Requirement already satisfied: typing-extensions>=3.7.4.3 in /Users/vaishnavipullakhandam/Library/Python/3.9/lib/python/site-packages (from huggingface_hub) (4.12.2)\n",
      "Requirement already satisfied: requests in /Users/vaishnavipullakhandam/Library/Python/3.9/lib/python/site-packages (from huggingface_hub) (2.32.3)\n",
      "Requirement already satisfied: packaging>=20.9 in /Users/vaishnavipullakhandam/Library/Python/3.9/lib/python/site-packages (from huggingface_hub) (24.2)\n",
      "Requirement already satisfied: tqdm>=4.42.1 in /Users/vaishnavipullakhandam/Library/Python/3.9/lib/python/site-packages (from huggingface_hub) (4.67.1)\n",
      "Requirement already satisfied: urllib3<3,>=1.21.1 in /Users/vaishnavipullakhandam/Library/Python/3.9/lib/python/site-packages (from requests->huggingface_hub) (2.3.0)\n",
      "Requirement already satisfied: certifi>=2017.4.17 in /Users/vaishnavipullakhandam/Library/Python/3.9/lib/python/site-packages (from requests->huggingface_hub) (2024.12.14)\n",
      "Requirement already satisfied: idna<4,>=2.5 in /Users/vaishnavipullakhandam/Library/Python/3.9/lib/python/site-packages (from requests->huggingface_hub) (3.10)\n",
      "Requirement already satisfied: charset-normalizer<4,>=2 in /Users/vaishnavipullakhandam/Library/Python/3.9/lib/python/site-packages (from requests->huggingface_hub) (3.4.1)\n",
      "\u001b[33mWARNING: You are using pip version 21.2.4; however, version 25.0.1 is available.\n",
      "You should consider upgrading via the '/Library/Developer/CommandLineTools/usr/bin/python3 -m pip install --upgrade pip' command.\u001b[0m\n",
      "Note: you may need to restart the kernel to use updated packages.\n"
     ]
    }
   ],
   "source": [
    "#Make sure to install huggingface_hub\n",
    "\n",
    "%pip install huggingface_hub"
   ]
  },
  {
   "cell_type": "code",
   "execution_count": 38,
   "metadata": {},
   "outputs": [],
   "source": [
    "from huggingface_hub import HfApi\n",
    "\n",
    "# Create the instance of the API\n",
    "api=HfApi()\n"
   ]
  },
  {
   "cell_type": "code",
   "execution_count": null,
   "metadata": {},
   "outputs": [],
   "source": [
    "#To see all the models in hugging face hub. Because there are thousands of models, list_models tries to fetch all the models at once, it takes a lot of time.\n",
    "\n",
    "models = list(api.list_models())\n",
    "models[0]"
   ]
  },
  {
   "cell_type": "code",
   "execution_count": 39,
   "metadata": {},
   "outputs": [
    {
     "name": "stdout",
     "output_type": "stream",
     "text": [
      "distilbert/distilbert-base-uncased-finetuned-sst-2-english\n"
     ]
    }
   ],
   "source": [
    "# Return the filtered list from the Hub. ModelFilter has been discontinued so we'll just use list_models.\n",
    "models = api.list_models(\n",
    "    filter=\"text-classification\",\n",
    "    sort=\"downloads\",\n",
    "    direction=-1,\n",
    "    limit=5\n",
    ")\n",
    "\n",
    "model_list = list(models)\n",
    "print(model_list[1].modelId)"
   ]
  },
  {
   "cell_type": "code",
   "execution_count": null,
   "metadata": {},
   "outputs": [],
   "source": [
    "!pip3 install --upgrade pip\n",
    "\n",
    "!pip3 install torch torchvision\n",
    "!pip3 install transformers"
   ]
  },
  {
   "cell_type": "code",
   "execution_count": null,
   "metadata": {},
   "outputs": [],
   "source": [
    "# To save the model locally\n",
    "modelId = \"distilbert-base-uncased-finetuned-sst-2-english\"\n",
    "from transformers import AutoModel\n",
    "model = AutoModel.from_pretrained(modelId)\n",
    "model.save_pretrained(save_directory=f\"models/{modelId}\")"
   ]
  },
  {
   "cell_type": "code",
   "execution_count": null,
   "metadata": {},
   "outputs": [],
   "source": []
  }
 ],
 "metadata": {
  "kernelspec": {
   "display_name": "Python 3",
   "language": "python",
   "name": "python3"
  },
  "language_info": {
   "codemirror_mode": {
    "name": "ipython",
    "version": 3
   },
   "file_extension": ".py",
   "mimetype": "text/x-python",
   "name": "python",
   "nbconvert_exporter": "python",
   "pygments_lexer": "ipython3",
   "version": "3.10.11"
  },
  "orig_nbformat": 4
 },
 "nbformat": 4,
 "nbformat_minor": 2
}
