{
 "cells": [
  {
   "cell_type": "code",
   "execution_count": 19,
   "metadata": {},
   "outputs": [
    {
     "name": "stdout",
     "output_type": "stream",
     "text": [
      "Requirement already satisfied: huggingface_hub in /Users/vaishnavipullakhandam/anaconda3/lib/python3.10/site-packages (0.27.0)\n",
      "Requirement already satisfied: typing-extensions>=3.7.4.3 in /Users/vaishnavipullakhandam/anaconda3/lib/python3.10/site-packages (from huggingface_hub) (4.12.2)\n",
      "Requirement already satisfied: fsspec>=2023.5.0 in /Users/vaishnavipullakhandam/anaconda3/lib/python3.10/site-packages (from huggingface_hub) (2024.12.0)\n",
      "Requirement already satisfied: pyyaml>=5.1 in /Users/vaishnavipullakhandam/anaconda3/lib/python3.10/site-packages (from huggingface_hub) (6.0)\n",
      "Requirement already satisfied: requests in /Users/vaishnavipullakhandam/anaconda3/lib/python3.10/site-packages (from huggingface_hub) (2.32.3)\n",
      "Requirement already satisfied: packaging>=20.9 in /Users/vaishnavipullakhandam/anaconda3/lib/python3.10/site-packages (from huggingface_hub) (22.0)\n",
      "Requirement already satisfied: filelock in /Users/vaishnavipullakhandam/anaconda3/lib/python3.10/site-packages (from huggingface_hub) (3.9.0)\n",
      "Requirement already satisfied: tqdm>=4.42.1 in /Users/vaishnavipullakhandam/anaconda3/lib/python3.10/site-packages (from huggingface_hub) (4.64.1)\n",
      "Requirement already satisfied: charset-normalizer<4,>=2 in /Users/vaishnavipullakhandam/anaconda3/lib/python3.10/site-packages (from requests->huggingface_hub) (2.0.4)\n",
      "Requirement already satisfied: idna<4,>=2.5 in /Users/vaishnavipullakhandam/anaconda3/lib/python3.10/site-packages (from requests->huggingface_hub) (3.4)\n",
      "Requirement already satisfied: urllib3<3,>=1.21.1 in /Users/vaishnavipullakhandam/anaconda3/lib/python3.10/site-packages (from requests->huggingface_hub) (1.26.14)\n",
      "Requirement already satisfied: certifi>=2017.4.17 in /Users/vaishnavipullakhandam/anaconda3/lib/python3.10/site-packages (from requests->huggingface_hub) (2024.12.14)\n"
     ]
    }
   ],
   "source": [
    "#Make sure to install huggingface_hub\n",
    "\n",
    "!pip install huggingface_hub"
   ]
  },
  {
   "cell_type": "code",
   "execution_count": 20,
   "metadata": {},
   "outputs": [],
   "source": [
    "from huggingface_hub import HfApi\n",
    "\n",
    "# Create the instance of the API\n",
    "api=HfApi()\n"
   ]
  },
  {
   "cell_type": "code",
   "execution_count": null,
   "metadata": {},
   "outputs": [],
   "source": [
    "#To see all the models in hugging face hub. Because there are thousands of models, list_models tries to fetch all the models at once, it takes a lot of time.\n",
    "\n",
    "models = list(api.list_models())\n",
    "models[0]"
   ]
  },
  {
   "cell_type": "code",
   "execution_count": 28,
   "metadata": {},
   "outputs": [
    {
     "name": "stdout",
     "output_type": "stream",
     "text": [
      "yiyanghkust/finbert-tone\n"
     ]
    }
   ],
   "source": [
    "# Return the filtered list from the Hub. ModelFilter has been discontinued so we'll just use list_models.\n",
    "models = api.list_models(\n",
    "    filter=\"text-classification\",\n",
    "    sort=\"downloads\",\n",
    "    direction=-1,\n",
    "    limit=5\n",
    ")\n",
    "\n",
    "model_list = list(models)\n",
    "print(model_list[0].id)"
   ]
  }
 ],
 "metadata": {
  "kernelspec": {
   "display_name": "Python 3",
   "language": "python",
   "name": "python3"
  },
  "language_info": {
   "codemirror_mode": {
    "name": "ipython",
    "version": 3
   },
   "file_extension": ".py",
   "mimetype": "text/x-python",
   "name": "python",
   "nbconvert_exporter": "python",
   "pygments_lexer": "ipython3",
   "version": "3.10.11"
  },
  "orig_nbformat": 4
 },
 "nbformat": 4,
 "nbformat_minor": 2
}
