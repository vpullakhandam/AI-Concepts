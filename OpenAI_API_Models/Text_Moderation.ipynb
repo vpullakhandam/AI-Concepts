{
 "cells": [
  {
   "attachments": {},
   "cell_type": "markdown",
   "metadata": {},
   "source": [
    "Text Moderation is the process of identifying text that is inappropriate for the context it is being used in."
   ]
  },
  {
   "cell_type": "code",
   "execution_count": 1,
   "metadata": {},
   "outputs": [],
   "source": [
    "from openai import OpenAI\n",
    "import os\n",
    "from dotenv import load_dotenv\n",
    "load_dotenv()\n",
    "secret_key=os.getenv('SECRET_KEY')\n",
    "\n",
    "\n",
    "\n",
    "client = OpenAI(api_key=secret_key)\n"
   ]
  },
  {
   "cell_type": "code",
   "execution_count": 2,
   "metadata": {},
   "outputs": [
    {
     "name": "stdout",
     "output_type": "stream",
     "text": [
      "CategoryScores(harassment=0.0008934664656408131, harassment_threatening=0.0007960855728015304, hate=0.0004168690647929907, hate_threatening=1.232137128681643e-05, illicit=None, illicit_violent=None, self_harm=0.0005887083825655282, self_harm_instructions=5.997205789753934e-07, self_harm_intent=0.00013813088298775256, sexual=7.438401371473446e-05, sexual_minors=2.4925266188802198e-06, violence=0.09845840185880661, violence_graphic=0.0005148518248461187, self-harm=0.0005887083825655282, sexual/minors=2.4925266188802198e-06, hate/threatening=1.232137128681643e-05, violence/graphic=0.0005148518248461187, self-harm/intent=0.00013813088298775256, self-harm/instructions=5.997205789753934e-07, harassment/threatening=0.0007960855728015304)\n"
     ]
    }
   ],
   "source": [
    "response = client.moderations.create(\n",
    "    model=\"text-moderation-latest\",\n",
    "    input=\"I could kill for a burger\"\n",
    ")\n",
    "\n",
    "print(response.results[0].category_scores)"
   ]
  }
 ],
 "metadata": {
  "kernelspec": {
   "display_name": "Python 3",
   "language": "python",
   "name": "python3"
  },
  "language_info": {
   "codemirror_mode": {
    "name": "ipython",
    "version": 3
   },
   "file_extension": ".py",
   "mimetype": "text/x-python",
   "name": "python",
   "nbconvert_exporter": "python",
   "pygments_lexer": "ipython3",
   "version": "3.9.6"
  },
  "orig_nbformat": 4
 },
 "nbformat": 4,
 "nbformat_minor": 2
}
