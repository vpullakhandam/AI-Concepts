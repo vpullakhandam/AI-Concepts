{
 "cells": [
  {
   "cell_type": "code",
   "execution_count": 1,
   "metadata": {},
   "outputs": [],
   "source": [
    "from openai import OpenAI\n",
    "\n",
    "import os\n",
    "from dotenv import load_dotenv\n",
    "load_dotenv()\n",
    "secret_key=os.getenv('SECRET_KEY')\n",
    "\n",
    "client = OpenAI(api_key=secret_key)"
   ]
  },
  {
   "cell_type": "code",
   "execution_count": 3,
   "metadata": {},
   "outputs": [
    {
     "name": "stdout",
     "output_type": "stream",
     "text": [
      "- Farmer Jones is depicted as a cruel and neglectful master on Manor Farm.\n",
      "- He is often drunk, as seen when he fails to close the pop holes, allowing animals to gather for Old Major's speech.\n",
      "- Old Major describes the animals' lives as \"miserable, laborious and short.\"\n",
      "- The animals work to their fullest capacity, knowing only \"misery and slavery.\"\n",
      "- Young pigs face a grim fate, being slaughtered, and dogs are drowned when deemed useless.\n",
      "- Jones's cruelty stems more from pragmatic farming practices than malice or selfishness.\n",
      "- He represents the oppression reminiscent of the Tsarist regime in Russia.\n",
      "- However, the pigs' cunning and manipulation ultimately surpass Jones’s tyranny.\n"
     ]
    }
   ],
   "source": [
    "text=\"There is no question that Farmer Jones is a cruel and neglectful master who tyrannises over the animals on Manor Farm. At the beginning of the novel, Orwell reveals that Jones was “too drunk” to remember to shut the pop holes which allows the animals to congregate and listen to Old Major’s speech. During the speech, Old Major describes how their lives are “miserable, laborious and short.” The animals are forced to work to the “last atom of their strength” and know nothing except “misery and slavery”. It is clear that Farmer Jones is cruel. Old Major describes how the young pigs will “scream their lives out” at the block. The dogs, when they outlive their usefulness, will be drowned in the “nearest pond”. This callous and unfair treatment, however, doesn’t seem to be motivated by malice or selfishness. It is the simple pragmatism of a farmer. Inspired by the centuries of oppression by the Tsarist regime in Russia, Farmer Jones is unquestionably a cruel and heartless master. His tyranny, however, pales in comparison to the cunning, selfishness and manipulation of the pigs. \"\n",
    "\n",
    "\n",
    "prompt=f\"\"\"Summarize the text delimited by triple backticks, into point wise fashion: ```{text}```\"\"\"\n",
    "\n",
    "\n",
    "response=client.chat.completions.create(\n",
    "    model=\"gpt-4o-mini\",\n",
    "    messages=[{\"role\":\"user\",\"content\":prompt}]\n",
    ")\n",
    "\n",
    "print(response.choices[0].message.content)"
   ]
  }
 ],
 "metadata": {
  "kernelspec": {
   "display_name": "Python 3",
   "language": "python",
   "name": "python3"
  },
  "language_info": {
   "codemirror_mode": {
    "name": "ipython",
    "version": 3
   },
   "file_extension": ".py",
   "mimetype": "text/x-python",
   "name": "python",
   "nbconvert_exporter": "python",
   "pygments_lexer": "ipython3",
   "version": "3.9.6"
  },
  "orig_nbformat": 4
 },
 "nbformat": 4,
 "nbformat_minor": 2
}
