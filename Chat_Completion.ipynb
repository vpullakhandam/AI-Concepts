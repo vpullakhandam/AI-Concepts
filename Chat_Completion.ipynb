{
 "cells": [
  {
   "cell_type": "code",
   "execution_count": 10,
   "metadata": {},
   "outputs": [
    {
     "name": "stdout",
     "output_type": "stream",
     "text": [
      "Defaulting to user installation because normal site-packages is not writeable\n",
      "Requirement already satisfied: openai in /Users/vaishnavipullakhandam/Library/Python/3.9/lib/python/site-packages (1.58.1)\n",
      "Requirement already satisfied: tqdm>4 in /Users/vaishnavipullakhandam/Library/Python/3.9/lib/python/site-packages (from openai) (4.67.1)\n",
      "Requirement already satisfied: typing-extensions<5,>=4.11 in /Users/vaishnavipullakhandam/Library/Python/3.9/lib/python/site-packages (from openai) (4.12.2)\n",
      "Requirement already satisfied: httpx<1,>=0.23.0 in /Users/vaishnavipullakhandam/Library/Python/3.9/lib/python/site-packages (from openai) (0.28.1)\n",
      "Requirement already satisfied: anyio<5,>=3.5.0 in /Users/vaishnavipullakhandam/Library/Python/3.9/lib/python/site-packages (from openai) (4.7.0)\n",
      "Requirement already satisfied: distro<2,>=1.7.0 in /Users/vaishnavipullakhandam/Library/Python/3.9/lib/python/site-packages (from openai) (1.9.0)\n",
      "Requirement already satisfied: jiter<1,>=0.4.0 in /Users/vaishnavipullakhandam/Library/Python/3.9/lib/python/site-packages (from openai) (0.8.2)\n",
      "Requirement already satisfied: sniffio in /Users/vaishnavipullakhandam/Library/Python/3.9/lib/python/site-packages (from openai) (1.3.1)\n",
      "Requirement already satisfied: pydantic<3,>=1.9.0 in /Users/vaishnavipullakhandam/Library/Python/3.9/lib/python/site-packages (from openai) (2.10.4)\n",
      "Requirement already satisfied: exceptiongroup>=1.0.2 in /Users/vaishnavipullakhandam/Library/Python/3.9/lib/python/site-packages (from anyio<5,>=3.5.0->openai) (1.2.2)\n",
      "Requirement already satisfied: idna>=2.8 in /Users/vaishnavipullakhandam/Library/Python/3.9/lib/python/site-packages (from anyio<5,>=3.5.0->openai) (3.10)\n",
      "Requirement already satisfied: certifi in /Users/vaishnavipullakhandam/Library/Python/3.9/lib/python/site-packages (from httpx<1,>=0.23.0->openai) (2024.12.14)\n",
      "Requirement already satisfied: httpcore==1.* in /Users/vaishnavipullakhandam/Library/Python/3.9/lib/python/site-packages (from httpx<1,>=0.23.0->openai) (1.0.7)\n",
      "Requirement already satisfied: h11<0.15,>=0.13 in /Users/vaishnavipullakhandam/Library/Python/3.9/lib/python/site-packages (from httpcore==1.*->httpx<1,>=0.23.0->openai) (0.14.0)\n",
      "Requirement already satisfied: pydantic-core==2.27.2 in /Users/vaishnavipullakhandam/Library/Python/3.9/lib/python/site-packages (from pydantic<3,>=1.9.0->openai) (2.27.2)\n",
      "Requirement already satisfied: annotated-types>=0.6.0 in /Users/vaishnavipullakhandam/Library/Python/3.9/lib/python/site-packages (from pydantic<3,>=1.9.0->openai) (0.7.0)\n",
      "\u001b[33mWARNING: You are using pip version 21.2.4; however, version 24.3.1 is available.\n",
      "You should consider upgrading via the '/Library/Developer/CommandLineTools/usr/bin/python3 -m pip install --upgrade pip' command.\u001b[0m\n",
      "Defaulting to user installation because normal site-packages is not writeable\n",
      "Collecting python-dotenv\n",
      "  Downloading python_dotenv-1.0.1-py3-none-any.whl (19 kB)\n",
      "Installing collected packages: python-dotenv\n",
      "Successfully installed python-dotenv-1.0.1\n",
      "\u001b[33mWARNING: You are using pip version 21.2.4; however, version 24.3.1 is available.\n",
      "You should consider upgrading via the '/Library/Developer/CommandLineTools/usr/bin/python3 -m pip install --upgrade pip' command.\u001b[0m\n"
     ]
    }
   ],
   "source": [
    "!pip3 install openai\n",
    "!pip3 install python-dotenv"
   ]
  },
  {
   "cell_type": "code",
   "execution_count": 17,
   "metadata": {},
   "outputs": [],
   "source": [
    "from openai import OpenAI\n",
    "import os\n",
    "from dotenv import load_dotenv"
   ]
  },
  {
   "cell_type": "code",
   "execution_count": 18,
   "metadata": {},
   "outputs": [],
   "source": [
    "load_dotenv()\n",
    "secret_key=os.getenv('SECRET_KEY')\n",
    "client = OpenAI(api_key=secret_key)"
   ]
  },
  {
   "cell_type": "code",
   "execution_count": 19,
   "metadata": {},
   "outputs": [
    {
     "name": "stdout",
     "output_type": "stream",
     "text": [
      "API stands for Application Programming Interface. It is a set of rules and protocols that allows different software applications to communicate with each other. An API defines the methods and data formats that applications can use to request and exchange information.\n",
      "\n",
      "APIs serve various purposes, such as:\n",
      "\n",
      "1. **Integration**: They enable different systems, apps, or services to work together by allowing them to share data and functionalities.\n",
      "\n",
      "2. **Abstraction**: APIs provide a simplified interface to complex operations, allowing developers to use pre-defined functions without needing to understand the underlying code.\n",
      "\n",
      "3. **Modularity**: They promote the development of modular applications, where different parts of a software system can be built independently and interact through well-defined interfaces.\n",
      "\n",
      "4. **Extensibility**: APIs allow developers to extend the capabilities of a platform by enabling third-party developers to create applications that can interact with the platform.\n",
      "\n",
      "APIs can be found in many forms, including web APIs (such as RESTful APIs, SOAP APIs), libraries, and operating system APIs. They are widely used in various domains, including web development, cloud services, mobile apps, and IoT (Internet of Things) applications.\n"
     ]
    }
   ],
   "source": [
    "response=client.chat.completions.create(\n",
    "    model=\"gpt-4o-mini\",\n",
    "    messages=[{\"role\":\"user\",\"content\":\"What is an API?\"}]\n",
    ")\n",
    "\n",
    "print(response.choices[0].message.content)"
   ]
  },
  {
   "cell_type": "code",
   "execution_count": 20,
   "metadata": {},
   "outputs": [
    {
     "name": "stdout",
     "output_type": "stream",
     "text": [
      "An API (Application Programming Interface) is a set of rules and protocols allowing different software applications to communicate with each other. It defines methods and data structures for requesting and exchanging information, enabling developers to integrate functionalities and access services from third-party applications or platforms seamlessly.\n"
     ]
    }
   ],
   "source": [
    "response=client.chat.completions.create(\n",
    "    model=\"gpt-4o-mini\",\n",
    "    messages=[{\"role\":\"system\",\"content\":\"You are a computer science expert and respond within 50 words\"},{\"role\":\"user\",\"content\":\"What is an API?\"}],\n",
    ")\n",
    "\n",
    "print(response.choices[0].message.content)"
   ]
  }
 ],
 "metadata": {
  "kernelspec": {
   "display_name": "Python 3",
   "language": "python",
   "name": "python3"
  },
  "language_info": {
   "codemirror_mode": {
    "name": "ipython",
    "version": 3
   },
   "file_extension": ".py",
   "mimetype": "text/x-python",
   "name": "python",
   "nbconvert_exporter": "python",
   "pygments_lexer": "ipython3",
   "version": "3.9.6"
  },
  "orig_nbformat": 4
 },
 "nbformat": 4,
 "nbformat_minor": 2
}
