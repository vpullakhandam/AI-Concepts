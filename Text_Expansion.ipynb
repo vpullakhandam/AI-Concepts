{
 "cells": [
  {
   "cell_type": "code",
   "execution_count": 1,
   "metadata": {},
   "outputs": [],
   "source": [
    "from openai import OpenAI\n",
    "\n",
    "import os\n",
    "from dotenv import load_dotenv\n",
    "load_dotenv()\n",
    "secret_key=os.getenv('SECRET_KEY')\n",
    "\n",
    "client = OpenAI(api_key=secret_key)"
   ]
  },
  {
   "cell_type": "code",
   "execution_count": 3,
   "metadata": {},
   "outputs": [
    {
     "name": "stdout",
     "output_type": "stream",
     "text": [
      "There is no question that Farmer Jones is a cruel and neglectful master who tyrannises over the animals on Manor Farm. His poor treatment of the animals creates an atmosphere of fear and oppression, where the creatures live in constant uncertainty and desperation. This cruelty is not just evident in the way he handles his duties as a farmer, but it also reflects a deeper disregard for the lives and well-being of the animals who depend on him. \n",
      "\n",
      "At the beginning of the novel, George Orwell skillfully reveals the extent of Jones's irresponsibility when he describes a pivotal moment: Jones was “too drunk” to remember to shut the pop holes. This seemingly minor oversight has significant consequences, as it inadvertently allows the animals the freedom to congregate. It is during this gathering that they listen to Old Major’s inspiring speech, which plants the seeds of rebellion and leads to the eventual uprising against their oppressive master. \n",
      "\n",
      "The image of a drunken farmer stumbling around his farm and neglecting his responsibilities not only highlights Jones's alcoholism but also serves as a symbol of his overall incompetence and the chaotic state of the farm under his rule. His negligence underscores the vulnerability of the animals, who, living under the shadow of tyranny, are desperate for change and long for a life free from oppression. This moment of neglect sets the stage for the animals' awakening to the possibility of a better life, igniting a revolutionary spirit among them, which ultimately leads to the pursuit of their own dreams of freedom and equality. \n",
      "\n",
      "Thus, Orwell effectively uses Farmer Jones's character to encapsulate the broader themes of power, control, and the struggle for liberation that resonate throughout the narrative, making him a pivotal figure in the unfolding story of Manor Farm.\n"
     ]
    }
   ],
   "source": [
    "text=\"There is no question that Farmer Jones is a cruel and neglectful master who tyrannises over the animals on Manor Farm. At the beginning of the novel, Orwell reveals that Jones was “too drunk” to remember to shut the pop holes which allows the animals to congregate and listen to Old Major’s speech.\"\n",
    "\n",
    "\n",
    "prompt=f\"\"\"Expand the text delimited by triple backticks: ```{text}```\"\"\"\n",
    "\n",
    "\n",
    "response=client.chat.completions.create(\n",
    "    model=\"gpt-4o-mini\",\n",
    "    messages=[{\"role\":\"user\",\"content\":prompt}]\n",
    ")\n",
    "\n",
    "print(response.choices[0].message.content)"
   ]
  }
 ],
 "metadata": {
  "kernelspec": {
   "display_name": "Python 3",
   "language": "python",
   "name": "python3"
  },
  "language_info": {
   "codemirror_mode": {
    "name": "ipython",
    "version": 3
   },
   "file_extension": ".py",
   "mimetype": "text/x-python",
   "name": "python",
   "nbconvert_exporter": "python",
   "pygments_lexer": "ipython3",
   "version": "3.9.6"
  },
  "orig_nbformat": 4
 },
 "nbformat": 4,
 "nbformat_minor": 2
}
