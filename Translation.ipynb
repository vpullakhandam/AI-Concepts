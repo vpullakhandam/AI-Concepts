{
 "cells": [
  {
   "attachments": {},
   "cell_type": "markdown",
   "metadata": {},
   "source": [
    "OpenAI's whisper-1 model can take an audio in any language and translate it into english. It can only translate to english and the performance maybe affected by audio quality, audio language, model's knowledge of the subject matter."
   ]
  },
  {
   "cell_type": "code",
   "execution_count": 1,
   "metadata": {},
   "outputs": [],
   "source": [
    "from openai import OpenAI"
   ]
  },
  {
   "cell_type": "code",
   "execution_count": null,
   "metadata": {},
   "outputs": [],
   "source": [
    "\n",
    "import os\n",
    "from dotenv import load_dotenv\n",
    "load_dotenv()\n",
    "secret_key=os.getenv('SECRET_KEY')\n",
    "\n",
    "client = OpenAI(secret_key)\n"
   ]
  },
  {
   "cell_type": "code",
   "execution_count": null,
   "metadata": {},
   "outputs": [],
   "source": [
    "audio_file=open(\"non_english_audio.mp3_path\",\"rb\")\n",
    "response=client.audio.translations.create(model=\"whisper-1\",file=audio_file)\n",
    "\n",
    "print(response.text)"
   ]
  },
  {
   "attachments": {},
   "cell_type": "markdown",
   "metadata": {},
   "source": [
    "To help the model translate more accurately, we can provide a prompt to improve the subject matter. If you know what the auido is about, provide that as a context to the model."
   ]
  },
  {
   "cell_type": "code",
   "execution_count": null,
   "metadata": {},
   "outputs": [],
   "source": [
    "prompt =\"Context of the audio\"\n",
    "audio_file=open(\"non_english_audio.mp3_path\",\"rb\")\n",
    "response=client.audio.translations.create(model=\"whisper-1\",file=audio_file,prompt=prompt)\n",
    "\n",
    "print(response.text)"
   ]
  }
 ],
 "metadata": {
  "kernelspec": {
   "display_name": "Python 3",
   "language": "python",
   "name": "python3"
  },
  "language_info": {
   "codemirror_mode": {
    "name": "ipython",
    "version": 3
   },
   "file_extension": ".py",
   "mimetype": "text/x-python",
   "name": "python",
   "nbconvert_exporter": "python",
   "pygments_lexer": "ipython3",
   "version": "3.9.6"
  },
  "orig_nbformat": 4
 },
 "nbformat": 4,
 "nbformat_minor": 2
}
