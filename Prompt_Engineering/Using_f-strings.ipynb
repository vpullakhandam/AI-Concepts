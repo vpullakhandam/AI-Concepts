{
 "cells": [
  {
   "cell_type": "code",
   "execution_count": 2,
   "metadata": {},
   "outputs": [],
   "source": [
    "from openai import OpenAI\n",
    "import os\n",
    "from dotenv import load_dotenv"
   ]
  },
  {
   "cell_type": "code",
   "execution_count": 3,
   "metadata": {},
   "outputs": [],
   "source": [
    "load_dotenv()\n",
    "secret_key=os.getenv('SECRET_KEY')\n",
    "client = OpenAI(api_key=secret_key)"
   ]
  },
  {
   "cell_type": "code",
   "execution_count": 4,
   "metadata": {},
   "outputs": [
    {
     "name": "stdout",
     "output_type": "stream",
     "text": [
      "The object was a shimmering, crystalline sphere, pulsating with a soft, ethereal light. It floated gently above the ground in the center of an ancient grove, its glow contrasting vividly with the gnarled roots of the trees surrounding it. The air was thick with anticipation as a gentle breeze rustled the emerald leaves, seeming to whisper secrets of old.\n",
      "\n",
      "Mara stood before the sphere, her heart racing. She had heard tales of its existence—an object of immense power said to grant the heart's deepest desire. Yet, those who sought it were warned, for the sphere's true nature was shrouded in mystery and riddled with peril. Many had ventured into the grove, lured by its radiance, only to vanish without a trace.\n",
      "\n",
      "Taking a deep breath, Mara stepped closer. The moment her fingertips brushed its cool surface, the light intensified, swirling like a galaxy trapped within glass. Images flickered before her eyes—visions of joy, heartbreak, dreams fulfilled and hopes dashed. As she absorbed the kaleidoscope of emotions, she felt an invisible tether pulling at her very soul.\n",
      "\n",
      "\"What do you desire, seeker?\" a voice echoed around her, deep and resonant, as if the grove itself had come to life.\n",
      "\n",
      "Mara hesitated. The desires she had carried in her heart since childhood came rushing forth—her longing for adventure, her wish to heal her ailing mother, her yearning for a love that felt like the stories she read. But as the sphere’s light shimmered, she realized that true desires were often masked by fleeting wants.\n",
      "\n",
      "\"I want to understand,\" she finally declared, her voice steady despite the tempest of emotions inside her. \"I want to know the truth about myself and the world around me.\"\n",
      "\n",
      "The sphere pulsed again, brightening until it enveloped her entirely in a warm embrace. The grove faded away, replaced by a whirlwind of colors and sensations. Time seemed to lose its meaning as she was swept through experiences—lives lived in joy, sorrow, triumph, and despair. Through it all, she gleaned wisdom: about loss and the strength it could forge, about love and the courage it demanded, about the interconnectedness of all beings in the vast tapestry of existence.\n",
      "\n",
      "When the storm settled, Mara found herself back in the grove, the sphere now dimmed but steady. She felt different—a deeper sense of clarity washed over her like a gentle tide. \n",
      "\n",
      "As she turned to leave, the spectral light of the sphere flickered one last time, as if to bid her farewell. She walked away, the weight of her desires lifted, replaced by a newfound purpose. She would return to her mother, take up her dreams, and embrace the world with open arms and an invigorated spirit.\n",
      "\n",
      "And in that soft, sacred grove, the crystalline sphere continued to pulse gently, waiting patiently for the next seeker, knowing that each heart must come to its own truth in due time.\n"
     ]
    }
   ],
   "source": [
    "story = 'The object was a shimmering, crystalline sphere, pulsating with a soft, ethereal light.'\n",
    "\n",
    "prompt = f\"\"\"Complete the story delimited by triple backticks. \n",
    " ```{story}```\"\"\"\n",
    "\n",
    "response=client.chat.completions.create(\n",
    "    model=\"gpt-4o-mini\",\n",
    "    messages=[{\"role\":\"user\",\"content\":prompt}]\n",
    ")\n",
    "\n",
    "print(response.choices[0].message.content)"
   ]
  }
 ],
 "metadata": {
  "kernelspec": {
   "display_name": "Python 3",
   "language": "python",
   "name": "python3"
  },
  "language_info": {
   "codemirror_mode": {
    "name": "ipython",
    "version": 3
   },
   "file_extension": ".py",
   "mimetype": "text/x-python",
   "name": "python",
   "nbconvert_exporter": "python",
   "pygments_lexer": "ipython3",
   "version": "3.9.6"
  },
  "orig_nbformat": 4
 },
 "nbformat": 4,
 "nbformat_minor": 2
}
